{
  "cells": [
    {
      "attachments": {},
      "cell_type": "markdown",
      "metadata": {
        "id": "VMuUK0ap_bRD"
      },
      "source": [
        "# Chapter 1\n",
        "### Your first day at your new job 👩‍💻👨‍💻\n",
        "\n",
        "You are starting a new job as a junior software developer in an IT company. \n",
        "\n",
        "The company’s HR department asks you to fill out a form, so you start by assigning your personal information to corresponding variables.\n",
        "\n",
        "📌 Create a variable for your name, surname, age, ID number, place of residence, to specify if you have active health insurance or not, and lastly one for specifying your nationality.\n"
      ]
    },
    {
      "cell_type": "code",
      "execution_count": 1,
      "metadata": {
        "id": "OPLhhc2Sp-D0"
      },
      "outputs": [],
      "source": [
        "#Please assign your personal information to variables\n",
        "my_name = \"Dilara\"\n",
        "my_surname = \"Caliskan\"\n",
        "my_age = 19\n",
        "ID_number = 18859629570\n",
        "where_i_live = \"Istanbul\"\n",
        "health_insurance = \"no\"\n",
        "#my_nationality = \"Turkish\""
      ]
    },
    {
      "attachments": {},
      "cell_type": "markdown",
      "metadata": {
        "id": "3zaUlxwcp-D0"
      },
      "source": [
        "###Meet And Greet\n",
        "Introduce yourself to your new co-workers.\n",
        "\n",
        "📌 Use a f-string to print \"My name is Joey Tribbiani I am 25 years old and I live in London”."
      ]
    },
    {
      "cell_type": "code",
      "execution_count": 2,
      "metadata": {
        "id": "XNuh5_2WXwvg"
      },
      "outputs": [
        {
          "name": "stdout",
          "output_type": "stream",
          "text": [
            "My name is Dilara Caliskan, I am 19 years old, I live in Istanbul.\n"
          ]
        }
      ],
      "source": [
        "#Write a sentence using the print function to describe yourself using the variables above in the correct data type\n",
        "print(f\"My name is {my_name} {my_surname}, I am {str(my_age)} years old, I live in {where_i_live}.\")"
      ]
    },
    {
      "attachments": {},
      "cell_type": "markdown",
      "metadata": {
        "id": "EEL9To4ip-D1"
      },
      "source": [
        "### Equipment starter pack\n",
        "The HR department asks you to list the items you would need to improve your work efficiency\n",
        "\n",
        "Mandatory:\n",
        "* Laptop\n",
        "* Headset\n",
        "* Second monitor\n",
        "\n",
        "Optional:\n",
        "* Mousepad\n",
        "* USB drive\n",
        "* External drive\n",
        "\n",
        "\n",
        "📌 Create a shopping list that contains items above and print it."
      ]
    },
    {
      "cell_type": "code",
      "execution_count": 47,
      "metadata": {
        "id": "fPFBLDyqp-D2"
      },
      "outputs": [],
      "source": [
        "#Create the item_list\n",
        "item_list = [ 'Laptop', 'Headset', 'Second monitor', 'Mousepad', 'USB drive', 'External drive']"
      ]
    },
    {
      "cell_type": "code",
      "execution_count": 48,
      "metadata": {
        "id": "358R_CN5U2-J"
      },
      "outputs": [
        {
          "name": "stdout",
          "output_type": "stream",
          "text": [
            "['Laptop', 'Headset', 'Second monitor', 'Mousepad', 'USB drive', 'External drive']\n"
          ]
        }
      ],
      "source": [
        "#Print the list\n",
        "print(item_list)"
      ]
    },
    {
      "attachments": {},
      "cell_type": "markdown",
      "metadata": {
        "id": "5keEWjCyp-D2"
      },
      "source": [
        "####What is mandatory and what is optional?\n",
        "\n",
        "📌 Use list slicing to devide your list in two list: 'mandatory_item_list' and 'optional_item_list' and print both to the screen."
      ]
    },
    {
      "cell_type": "code",
      "execution_count": 14,
      "metadata": {
        "id": "E6ewuDYZp-D2"
      },
      "outputs": [],
      "source": [
        "#Use list slicing to divide the mandatory items\n",
        "mandatory_items_list = item_list[0:3]"
      ]
    },
    {
      "cell_type": "code",
      "execution_count": 15,
      "metadata": {
        "id": "hOmkym01RGEL"
      },
      "outputs": [],
      "source": [
        "#Use list slicing to divide the optional items\n",
        "optional_items_list = item_list[3:6]"
      ]
    },
    {
      "cell_type": "code",
      "execution_count": 16,
      "metadata": {
        "id": "xsVv1_msVE1_"
      },
      "outputs": [
        {
          "name": "stdout",
          "output_type": "stream",
          "text": [
            "['Laptop', 'Headset', 'Second monitor']\n",
            "['Mousepad', 'USB drive', 'External drive']\n"
          ]
        }
      ],
      "source": [
        "#Print both to the screen\n",
        "print(mandatory_items_list)\n",
        "print(optional_items_list)"
      ]
    },
    {
      "attachments": {},
      "cell_type": "markdown",
      "metadata": {
        "id": "s_M1Q93wp-D3"
      },
      "source": [
        "#### Go Shopping\n",
        "Next, you will have to go and purchase these items, the finance department confirmed a budget of $5000.\n",
        "\n",
        "📌 Assign 5000 to a variable called limit, so you know how much you can spend."
      ]
    },
    {
      "cell_type": "code",
      "execution_count": 17,
      "metadata": {
        "id": "nCmpm0oqp-D3"
      },
      "outputs": [],
      "source": [
        "#Assign the spending limit value to a variable called limit\n",
        "limit = 5000"
      ]
    },
    {
      "attachments": {},
      "cell_type": "markdown",
      "metadata": {
        "id": "VwbEEymVp-D3"
      },
      "source": [
        "####Price dictionary\n",
        "\n",
        "Before you start shopping yo need to find the best items that you can buy within the company budget. \n",
        "\n",
        "📌 Prepare a dictionary called “price_sheet” that includes the items as keys and the prices as values.  \n",
        " "
      ]
    },
    {
      "cell_type": "code",
      "execution_count": 18,
      "metadata": {
        "id": "9o9n9Ag-p-D3"
      },
      "outputs": [],
      "source": [
        "#Create a dictionary that contains each item and its price\n",
        "price_sheet = {\n",
        "     'Laptop': 1500,\n",
        "     'Headset' : 100,\n",
        "     'Second monitor' : 200,\n",
        "     'Mousepad' : 50,\n",
        "     'USB drive' : 70,\n",
        "     'External drive' : 250,\n",
        "}\n"
      ]
    },
    {
      "attachments": {},
      "cell_type": "markdown",
      "metadata": {
        "id": "rUYivBVEBhCv"
      },
      "source": [
        "####Shopping functions\n",
        "\n",
        "You need to define three functions that will help you during shopping.\n",
        "\n",
        "📌 First, create an empty list that  will be your shopping cart. Here you will add the items you need to purchase.\n",
        "\n",
        "1. Define a function for both adding items to the cart and removing them from the item_list.\n",
        "\n",
        "📌 The \"add_to_cart\" function should take the item name and the quantity to buy as an argument. \n",
        "\n",
        "2. Define a function that will create an invoice. \n",
        "\n",
        "📌 The \"create_invoice\" function should calculate the taxes of each item (18%) and add it to the total amount.\n",
        "\n",
        "3. Define a function for the checkout. \n",
        "\n",
        "📌 The \"checkout\" function should subtract the total amount from the budget and print a statement to inform if the payment was successful. "
      ]
    },
    {
      "cell_type": "code",
      "execution_count": 36,
      "metadata": {
        "id": "dBNZ2ZdkGHUe"
      },
      "outputs": [],
      "source": [
        "#Initialize the cart list\n",
        "cart = []"
      ]
    },
    {
      "cell_type": "code",
      "execution_count": 37,
      "metadata": {
        "id": "HH26hHHFGKPJ"
      },
      "outputs": [],
      "source": [
        "#Define the \"add_to_cart\" function\n",
        "def add_to_cart (item, quantity):\n",
        "    cart.append((item, quantity))\n",
        "    item_list.remove(item)"
      ]
    },
    {
      "cell_type": "code",
      "execution_count": 45,
      "metadata": {
        "id": "TUmNr4xVGQdm"
      },
      "outputs": [],
      "source": [
        "#Define the \"create_invoice\" function\n",
        "def create_invoice() :\n",
        "    total_amount_inc_tax = 0\n",
        "    for item, quantity in cart:\n",
        "        price = price_sheet[item]\n",
        "        tax = 0.25 * price\n",
        "        total = (tax + price) * quantity\n",
        "        total_amount_inc_tax += total\n",
        "        print('Item:', item, '\\t', 'Price:', price, '\\t', 'Quantity:', quantity, '\\t' 'Tax:', tax, '\\t', 'Total:', total, '\\n')\n",
        "\n",
        "    print(\"After the taxes are applied the total amount is:\", '\\t', total_amount_inc_tax)\n",
        "    \n",
        "    return total_amount_inc_tax\n"
      ]
    },
    {
      "cell_type": "code",
      "execution_count": 22,
      "metadata": {
        "id": "iUlKiXgMGdIk"
      },
      "outputs": [],
      "source": [
        "#Define the \"checkout\" function\n",
        "def checkout() :\n",
        "    global limit\n",
        "    total_amount = create_invoice()\n",
        "    if limit == 0 :\n",
        "        print(\"You don't have any budget\")\n",
        "    elif total_amount > limit :\n",
        "        print(\"The amount you have to pay is above the spending limit. You have to drop some items.\")\n",
        "    else:\n",
        "        limit -= total_amount\n",
        "        print(f\"The total amount (incl.taxes) you've paid is {total_amount}. You have {limit} dollars left\")\n"
      ]
    },
    {
      "attachments": {},
      "cell_type": "markdown",
      "metadata": {
        "id": "2IFUlu0yB0In"
      },
      "source": [
        "Let's shop!"
      ]
    },
    {
      "cell_type": "code",
      "execution_count": 49,
      "metadata": {
        "id": "FDO7CRJTWPg7"
      },
      "outputs": [
        {
          "name": "stdout",
          "output_type": "stream",
          "text": [
            "Item: Laptop \t Price: 1500 \t Quantity: 1 \tTax: 375.0 \t Total: 1875.0 \n",
            "\n",
            "Item: Headset \t Price: 100 \t Quantity: 1 \tTax: 25.0 \t Total: 125.0 \n",
            "\n",
            "Item: Second monitor \t Price: 200 \t Quantity: 1 \tTax: 50.0 \t Total: 250.0 \n",
            "\n",
            "Item: Mousepad \t Price: 50 \t Quantity: 1 \tTax: 12.5 \t Total: 62.5 \n",
            "\n",
            "Item: USB drive \t Price: 70 \t Quantity: 1 \tTax: 17.5 \t Total: 87.5 \n",
            "\n",
            "Item: External drive \t Price: 250 \t Quantity: 1 \tTax: 62.5 \t Total: 312.5 \n",
            "\n",
            "Item: Laptop \t Price: 1500 \t Quantity: 1 \tTax: 375.0 \t Total: 1875.0 \n",
            "\n",
            "Item: Laptop \t Price: 1500 \t Quantity: 1 \tTax: 375.0 \t Total: 1875.0 \n",
            "\n",
            "Item: Headset \t Price: 100 \t Quantity: 3 \tTax: 25.0 \t Total: 375.0 \n",
            "\n",
            "Item: Second monitor \t Price: 200 \t Quantity: 2 \tTax: 50.0 \t Total: 500.0 \n",
            "\n",
            "Item: Mousepad \t Price: 50 \t Quantity: 2 \tTax: 12.5 \t Total: 125.0 \n",
            "\n",
            "Item: USB drive \t Price: 70 \t Quantity: 1 \tTax: 17.5 \t Total: 87.5 \n",
            "\n",
            "Item: External drive \t Price: 250 \t Quantity: 1 \tTax: 62.5 \t Total: 312.5 \n",
            "\n",
            "Item: Laptop \t Price: 1500 \t Quantity: 1 \tTax: 375.0 \t Total: 1875.0 \n",
            "\n",
            "Item: Laptop \t Price: 1500 \t Quantity: 1 \tTax: 375.0 \t Total: 1875.0 \n",
            "\n",
            "Item: Headset \t Price: 100 \t Quantity: 1 \tTax: 25.0 \t Total: 125.0 \n",
            "\n",
            "Item: Second monitor \t Price: 200 \t Quantity: 1 \tTax: 50.0 \t Total: 250.0 \n",
            "\n",
            "Item: Mousepad \t Price: 50 \t Quantity: 1 \tTax: 12.5 \t Total: 62.5 \n",
            "\n",
            "Item: USB drive \t Price: 70 \t Quantity: 1 \tTax: 17.5 \t Total: 87.5 \n",
            "\n",
            "Item: External drive \t Price: 250 \t Quantity: 1 \tTax: 62.5 \t Total: 312.5 \n",
            "\n",
            "After the taxes are applied the total amount is: \t 12450.0\n",
            "The amount you have to pay is above the spending limit. You have to drop some items.\n"
          ]
        }
      ],
      "source": [
        "#Call the \"add_to_cart\" function for each item\n",
        " \n",
        "#Add first item to cart\n",
        "\n",
        "add_to_cart(\"Laptop\", 1)\n",
        "\n",
        "#Add second item to cart\n",
        "\n",
        "add_to_cart(\"Headset\", 1)\n",
        " \n",
        "#Add third item to cart\n",
        "\n",
        "add_to_cart(\"Second monitor\", 1)\n",
        "\n",
        "#Add fourth item to cart\n",
        "\n",
        "add_to_cart(\"Mousepad\", 1)\n",
        "\n",
        "#Add fifth item to cart\n",
        "\n",
        "add_to_cart(\"USB drive\", 1)\n",
        " \n",
        "#Add last item to cart\n",
        "\n",
        "add_to_cart(\"External drive\", 1)\n",
        " \n",
        "#Call the create \"checkout\" function to pay for all your items \n",
        "checkout()"
      ]
    },
    {
      "attachments": {},
      "cell_type": "markdown",
      "metadata": {
        "id": "ZL-r2x_xKixg"
      },
      "source": [
        "###Game Night\n",
        "\n",
        "You are back at the office and the HR department organizes a welcome party for new employees. \n",
        "\n",
        "You decide to create a Rock-Paper-Scissor game. \n",
        "\n",
        "📌 Create a Rock-Paper-Scissor game in which the user plays against the computer. The player will choose one of the actions, and the computer will choose its action randomly.\n"
      ]
    },
    {
      "cell_type": "code",
      "execution_count": 44,
      "metadata": {
        "id": "qzD5pxBTgcFb"
      },
      "outputs": [],
      "source": [
        "#Import the random library\n",
        "import random"
      ]
    },
    {
      "cell_type": "code",
      "execution_count": 45,
      "metadata": {
        "id": "oJv-ihLAgcRo"
      },
      "outputs": [],
      "source": [
        "#create a list containing the three actions of the game.\n",
        "action_list = ['rock', 'paper', 'scissors']"
      ]
    },
    {
      "cell_type": "code",
      "execution_count": null,
      "metadata": {},
      "outputs": [],
      "source": []
    },
    {
      "cell_type": "code",
      "execution_count": 50,
      "metadata": {
        "id": "DNUa_9afWqMd"
      },
      "outputs": [
        {
          "name": "stdout",
          "output_type": "stream",
          "text": [
            "Round number: 1\n",
            "Computer: paper\n",
            "Player: paper\n",
            "Tie! Both players choose the same action.\n",
            "Round number: 2\n",
            "Computer: scissors\n",
            "Player: paper\n",
            "Winner is : Computer!\n",
            "Round number: 3\n",
            "Computer: paper\n",
            "Player: rock\n",
            "Winner is: Computer!\n",
            "Computer won with score 2 : 0\n"
          ]
        }
      ],
      "source": [
        "#Set the scores of players to 0\n",
        "computer_score = 0\n",
        "player_score = 0\n",
        "\n",
        "#Ask the user how many rounds they want to play\n",
        "total_rounds = input(\"How many rounds do you want to play? Please enter a number here: \")\n",
        "\n",
        "#Add a round_counter that is 0 at the beginning\n",
        "round_counter = 0\n",
        "\n",
        "#Write a while loop and put the game inside\n",
        "while True:\n",
        "\n",
        "  #Increase round_counter by and print it\n",
        "  round_counter += 1\n",
        "  print(\"Round number:\", round_counter)\n",
        "\n",
        "  #Select a random action for computer\n",
        "  computer_choice = random.choice(action_list) \n",
        "\n",
        "  #Ask player to choose an action\n",
        "  player_choice = input(\"Please choose your action:\")\n",
        "\n",
        "  #Print the players choices\n",
        "  print(\"Computer:\", computer_choice)\n",
        "  print(\"Player:\", player_choice)\n",
        "\n",
        "\n",
        "  #tie condition\n",
        "  if computer_choice == player_choice:\n",
        "    print(\"Tie! Both players choose the same action.\")\n",
        "\n",
        "\n",
        "  #Remaining conditions\n",
        "  elif computer_choice == 'paper':\n",
        "    if player_choice == 'rock':\n",
        "      print(\"Winner is: Computer!\")\n",
        "      computer_score += 1\n",
        "    else :\n",
        "      print(\"Winner is: Player!\")\n",
        "      player_score += 1\n",
        "  elif computer_choice == 'rock':\n",
        "    if player_choice == 'paper':\n",
        "      print(\"Winner is: Player!\")\n",
        "      player_score += 1\n",
        "    else : \n",
        "      print(\"Winner is: Computer!\")\n",
        "      computer_score += 1\n",
        "  elif computer_choice == 'scissors':\n",
        "    if player_choice == 'paper':\n",
        "      print(\"Winner is : Computer!\")\n",
        "      computer_score += 1\n",
        "    else:\n",
        "      print(\"Winner is: Player!\")\n",
        "      player_score += 1\n",
        "\n",
        "\n",
        "  #Stop the while loop if the round_counter equals the number of total rounds\n",
        "  if round_counter == int(total_rounds):\n",
        "    break\n",
        "\n",
        "#Print the outcome of the game by using conditional statements\n",
        "if computer_score == player_score :\n",
        "  print(\"There is no winner, tie.\", computer_score ,\":\" ,player_score)\n",
        "elif computer_score > player_score :\n",
        "  print(\"Computer won with score\", computer_score ,\":\", player_score)\n",
        "elif computer_score < player_score :\n",
        "  print(\"Player won with score\", computer_score, \":\", player_score)"
      ]
    },
    {
      "attachments": {},
      "cell_type": "markdown",
      "metadata": {
        "id": "jdrYN0Xgp-D6"
      },
      "source": [
        "# Your first task \n",
        "\n",
        "Rachel asks you to write a program to track the name and revenue each employee brings.  \n",
        "\n",
        "* Create the \"salesperson_revenue\" dictionary to see the employee name as a key and the revenue as a value.\n",
        "\n",
        "  📌 Every employee starts with 0 revenue.\n",
        "* Define the \"enter_revenue\" function. \n",
        "\n",
        "  📌 The function takes the name and revenue as an argument and updates the salesperson_revenue dictionary.\n"
      ]
    },
    {
      "cell_type": "code",
      "execution_count": 7,
      "metadata": {
        "id": "3vzRo7hyMRv2"
      },
      "outputs": [],
      "source": [
        "#Create salesperson_revenue dictionary\n",
        "salesperson_revenue = {\n",
        "    \"Dwight\" : 0,\n",
        "    \"Pam\" : 0,\n",
        "    \"Stanley\" : 0,\n",
        "    \"Phyllis\" : 0,\n",
        "    \"Andy\" : 0,\n",
        "    \"Oscar\" : 0,\n",
        "    \"Kevin\" : 0,\n",
        "    \"Creed\" : 0,\n",
        "}\n"
      ]
    },
    {
      "cell_type": "code",
      "execution_count": 8,
      "metadata": {
        "id": "m-8IozBwMRzM"
      },
      "outputs": [],
      "source": [
        "#Define enter_revenue function\n",
        "def enter_revenue(name, revenue):\n",
        "    global salesperson_revenue\n",
        "    salesperson_revenue[name] += revenue"
      ]
    },
    {
      "attachments": {},
      "cell_type": "markdown",
      "metadata": {
        "id": "UnTGSoNTi58u"
      },
      "source": [
        "####Try out the functions\n",
        "* In a while loop ask the user to give the name of the employee and for the revenue \n",
        "\n",
        "  📌 If the user enters “quit” the loop should break.\n",
        "\n",
        "After that, print out the salesperson_revenue dictionary.\n"
      ]
    },
    {
      "cell_type": "code",
      "execution_count": 9,
      "metadata": {
        "id": "2E549VvFXNi6"
      },
      "outputs": [
        {
          "name": "stdout",
          "output_type": "stream",
          "text": [
            "Pam's revenue is 60\n",
            "Stanley's revenue is 89\n",
            "Dwight's revenue is 135\n",
            "Phyllis's revenue is 40\n"
          ]
        }
      ],
      "source": [
        "#Asking user employee name as input\n",
        "while True:\n",
        "    name = input(\"Employee name: \")\n",
        "    if name == \"quit\" :\n",
        "        break\n",
        "    revenue = int(input(\"Enter revenue: \"))\n",
        "    enter_revenue(name, revenue)\n",
        "    print(f\"{name}'s revenue is {salesperson_revenue[name]}\")"
      ]
    },
    {
      "cell_type": "code",
      "execution_count": 10,
      "metadata": {
        "id": "OAvl9rgOXPe6"
      },
      "outputs": [
        {
          "name": "stdout",
          "output_type": "stream",
          "text": [
            "{'Dwight': 135, 'Pam': 60, 'Stanley': 89, 'Phyllis': 40, 'Andy': 0, 'Oscar': 0, 'Kevin': 0, 'Creed': 0}\n"
          ]
        }
      ],
      "source": [
        "#Print the salesperson_revenue dictionary\n",
        "print(salesperson_revenue)"
      ]
    }
  ],
  "metadata": {
    "colab": {
      "collapsed_sections": [],
      "name": "Guided_project_1.ipynb",
      "provenance": []
    },
    "kernelspec": {
      "display_name": "Python 3",
      "language": "python",
      "name": "python3"
    },
    "language_info": {
      "codemirror_mode": {
        "name": "ipython",
        "version": 3
      },
      "file_extension": ".py",
      "mimetype": "text/x-python",
      "name": "python",
      "nbconvert_exporter": "python",
      "pygments_lexer": "ipython3",
      "version": "3.10.7"
    },
    "orig_nbformat": 4,
    "vscode": {
      "interpreter": {
        "hash": "8cbd3d0a195910ea9bbaf116532fd8b9d0df7489e84aeb7e2a1df3ae6e30f9d9"
      }
    }
  },
  "nbformat": 4,
  "nbformat_minor": 0
}
